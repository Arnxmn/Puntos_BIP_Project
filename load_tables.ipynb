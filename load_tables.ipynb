{
  "nbformat": 4,
  "nbformat_minor": 0,
  "metadata": {
    "colab": {
      "cell_execution_strategy": "setup",
      "provenance": [],
      "name": "load_tables"
    },
    "kernelspec": {
      "name": "python3",
      "display_name": "Python 3"
    },
    "language_info": {
      "name": "python"
    }
  },
  "cells": [
    {
      "cell_type": "code",
      "source": [
        "# Import libraries\n",
        "import requests\n",
        "import pandas as pd\n",
        "pd.options.mode.chained_assignment = None\n",
        "import json\n",
        "from google.cloud import bigquery"
      ],
      "metadata": {
        "id": "EEbpDL8JMES5"
      },
      "execution_count": null,
      "outputs": []
    },
    {
      "cell_type": "markdown",
      "source": [
        "Create a funtion to load tables from gov and load to dataframe"
      ],
      "metadata": {
        "id": "XiWsU44Ets2F"
      }
    },
    {
      "cell_type": "code",
      "source": [
        "## Function that will load data from site and add it to a dataframe\n",
        "def load_info(site):\n",
        "\n",
        "  ## Get data from GOV DATA\n",
        "  link_string = 'https://datos.gob.cl/api/3/action/datastore_search_sql?sql=SELECT%20*%20from%20%22' + site + '%22'\n",
        "  response = requests.get(link_string)\n",
        "\n",
        "  ## Create a variable to store the Json file contents\n",
        "  response_json = response.json()\n",
        "\n",
        "  ## Display dataframe\n",
        "  response_json_data = response_json['result']['records']\n",
        "\n",
        "  df = pd.DataFrame(response_json_data)\n",
        "\n",
        "  ## Remove full text column\n",
        "  df = df.drop(columns=['_full_text'])\n",
        "\n",
        "  return df"
      ],
      "metadata": {
        "id": "CJOLL_BEEvko"
      },
      "execution_count": null,
      "outputs": []
    },
    {
      "cell_type": "markdown",
      "source": [
        "Create a function to load the dataframes into the datasets´ tables"
      ],
      "metadata": {
        "id": "s9Q0E1yLLtAe"
      }
    },
    {
      "cell_type": "code",
      "source": [
        "def load_tables(project_nm, dataset_nm, table_nm, dataframe):\n",
        "  #Load client\n",
        "  client = bigquery.Client()\n",
        "\n",
        "  #Define table name, in format project.dataset.table\n",
        "  table = project_nm + '.' + dataset_nm + '.' + table_nm\n",
        "\n",
        "  #Delete if exists\n",
        "  client.delete_table(table, not_found_ok=True)\n",
        "\n",
        "  #Load data to BQ\n",
        "  job = client.load_table_from_dataframe(dataframe, table)\n",
        "\n",
        "  return job"
      ],
      "metadata": {
        "id": "qLhorq8GLsIQ"
      },
      "execution_count": null,
      "outputs": []
    },
    {
      "cell_type": "markdown",
      "source": [
        "Call funtions to load distinct tables into BigQuery"
      ],
      "metadata": {
        "id": "BfcHVGuiNyO0"
      }
    },
    {
      "cell_type": "code",
      "source": [
        "load_tables('crack-photon-423218-c1','BIP_UP', 'puntos_bip',load_info('cbd329c6-9fe6-4dc1-91e3-a99689fd0254'))"
      ],
      "metadata": {
        "colab": {
          "base_uri": "https://localhost:8080/"
        },
        "id": "zinfSxKIOA7x",
        "executionInfo": {
          "status": "ok",
          "timestamp": 1722355605445,
          "user_tz": 240,
          "elapsed": 2206,
          "user": {
            "displayName": "",
            "userId": ""
          }
        },
        "outputId": "bc9b0d9e-173a-4975-c1b2-311e1cd07773"
      },
      "execution_count": null,
      "outputs": [
        {
          "output_type": "execute_result",
          "data": {
            "text/plain": [
              "LoadJob<project=crack-photon-423218-c1, location=US, id=780f5706-2337-4c62-9fdd-bd8db0e80ad6>"
            ]
          },
          "metadata": {},
          "execution_count": 62
        }
      ]
    },
    {
      "cell_type": "code",
      "source": [
        "load_tables('crack-photon-423218-c1','BIP_UP', 'retail',load_info('2d177f41-08f9-471a-af5c-bc949267f053'))"
      ],
      "metadata": {
        "colab": {
          "base_uri": "https://localhost:8080/"
        },
        "id": "Fry7TwFkW2iF",
        "executionInfo": {
          "status": "ok",
          "timestamp": 1722355608701,
          "user_tz": 240,
          "elapsed": 1548,
          "user": {
            "displayName": "",
            "userId": ""
          }
        },
        "outputId": "76304da4-daf6-4cae-e277-fb0767abf76c"
      },
      "execution_count": null,
      "outputs": [
        {
          "output_type": "execute_result",
          "data": {
            "text/plain": [
              "LoadJob<project=crack-photon-423218-c1, location=US, id=e07cb67b-3ed7-4bd4-bba4-8b718b85f059>"
            ]
          },
          "metadata": {},
          "execution_count": 63
        }
      ]
    },
    {
      "cell_type": "code",
      "source": [
        "load_tables('crack-photon-423218-c1','BIP_UP', 'estandard_normal',load_info('8e827306-e9ef-4e84-a251-38d29a8f66d0'))"
      ],
      "metadata": {
        "colab": {
          "base_uri": "https://localhost:8080/"
        },
        "id": "nqnkMkSAYdBu",
        "executionInfo": {
          "status": "ok",
          "timestamp": 1722355612939,
          "user_tz": 240,
          "elapsed": 1615,
          "user": {
            "displayName": "",
            "userId": ""
          }
        },
        "outputId": "79806a4e-de5e-4beb-e2b0-5c910cc2d71c"
      },
      "execution_count": null,
      "outputs": [
        {
          "output_type": "execute_result",
          "data": {
            "text/plain": [
              "LoadJob<project=crack-photon-423218-c1, location=US, id=b965834b-84b2-488f-bd5b-5be52a658933>"
            ]
          },
          "metadata": {},
          "execution_count": 64
        }
      ]
    },
    {
      "cell_type": "code",
      "source": [
        "load_tables('crack-photon-423218-c1','BIP_UP', 'estandard_alto',load_info('fef2a0f6-84f8-4a1a-9a64-e2424efdd376'))"
      ],
      "metadata": {
        "colab": {
          "base_uri": "https://localhost:8080/"
        },
        "id": "uo1pxUirYmCq",
        "executionInfo": {
          "status": "ok",
          "timestamp": 1722355616393,
          "user_tz": 240,
          "elapsed": 1596,
          "user": {
            "displayName": "",
            "userId": ""
          }
        },
        "outputId": "651eb585-d65b-4433-96a6-3fa9619a9547"
      },
      "execution_count": null,
      "outputs": [
        {
          "output_type": "execute_result",
          "data": {
            "text/plain": [
              "LoadJob<project=crack-photon-423218-c1, location=US, id=43a4e8c6-4c57-4e4c-bc8e-7775b5e98507>"
            ]
          },
          "metadata": {},
          "execution_count": 65
        }
      ]
    },
    {
      "cell_type": "code",
      "source": [
        "load_tables('crack-photon-423218-c1','BIP_UP', 'metro',load_info('3d54e961-d81b-4507-aeee-7a433e00a9bf'))"
      ],
      "metadata": {
        "colab": {
          "base_uri": "https://localhost:8080/"
        },
        "id": "F-WxPC6cY9RM",
        "executionInfo": {
          "status": "ok",
          "timestamp": 1722355619964,
          "user_tz": 240,
          "elapsed": 1636,
          "user": {
            "displayName": "",
            "userId": ""
          }
        },
        "outputId": "a34512b0-8d6b-47fb-ec5b-bd3258b1b681"
      },
      "execution_count": null,
      "outputs": [
        {
          "output_type": "execute_result",
          "data": {
            "text/plain": [
              "LoadJob<project=crack-photon-423218-c1, location=US, id=44c9b7a0-4d01-40ad-8aa3-c9befcc4673a>"
            ]
          },
          "metadata": {},
          "execution_count": 66
        }
      ]
    },
    {
      "cell_type": "code",
      "source": [],
      "metadata": {
        "id": "yFdnWkmSY1oT"
      },
      "execution_count": null,
      "outputs": []
    }
  ]
}